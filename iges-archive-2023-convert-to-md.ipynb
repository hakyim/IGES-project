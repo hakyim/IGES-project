{
 "cells": [
  {
   "cell_type": "markdown",
   "id": "u919i94d3p",
   "metadata": {},
   "source": [
    "## Script Overview\n",
    "\n",
    "This script recursively converts various document formats to Markdown while preserving the original folder structure."
   ]
  },
  {
   "cell_type": "markdown",
   "id": "0961288b",
   "metadata": {},
   "source": [
    "code created by Haky using gpt-oss-120b, further formatted and annotated by claude code"
   ]
  },
  {
   "cell_type": "markdown",
   "id": "uxicdi4olgl",
   "metadata": {},
   "source": [
    "## Import Required Libraries\n",
    "\n",
    "Import all necessary modules for file conversion, path manipulation, and progress tracking."
   ]
  },
  {
   "cell_type": "code",
   "execution_count": null,
   "id": "f732d9f9",
   "metadata": {},
   "outputs": [
    {
     "name": "stdout",
     "output_type": "stream",
     "text": [
      "Collecting tqdm\n",
      "  Using cached tqdm-4.67.1-py3-none-any.whl.metadata (57 kB)\n",
      "Using cached tqdm-4.67.1-py3-none-any.whl (78 kB)\n",
      "Installing collected packages: tqdm\n",
      "Successfully installed tqdm-4.67.1\n",
      "Note: you may need to restart the kernel to use updated packages.\n",
      "Requirement already satisfied: pandas in /Users/haekyungim/miniconda3/envs/iges-env/lib/python3.11/site-packages (2.3.3)\n",
      "Collecting openpyxl\n",
      "  Using cached openpyxl-3.1.5-py2.py3-none-any.whl.metadata (2.5 kB)\n",
      "Collecting xlrd\n",
      "  Downloading xlrd-2.0.2-py2.py3-none-any.whl.metadata (3.5 kB)\n",
      "Requirement already satisfied: numpy>=1.23.2 in /Users/haekyungim/miniconda3/envs/iges-env/lib/python3.11/site-packages (from pandas) (2.3.3)\n",
      "Requirement already satisfied: python-dateutil>=2.8.2 in /Users/haekyungim/miniconda3/envs/iges-env/lib/python3.11/site-packages (from pandas) (2.9.0.post0)\n",
      "Requirement already satisfied: pytz>=2020.1 in /Users/haekyungim/miniconda3/envs/iges-env/lib/python3.11/site-packages (from pandas) (2025.2)\n",
      "Requirement already satisfied: tzdata>=2022.7 in /Users/haekyungim/miniconda3/envs/iges-env/lib/python3.11/site-packages (from pandas) (2025.2)\n",
      "Collecting et-xmlfile (from openpyxl)\n",
      "  Using cached et_xmlfile-2.0.0-py3-none-any.whl.metadata (2.7 kB)\n",
      "Requirement already satisfied: six>=1.5 in /Users/haekyungim/miniconda3/envs/iges-env/lib/python3.11/site-packages (from python-dateutil>=2.8.2->pandas) (1.17.0)\n",
      "Using cached openpyxl-3.1.5-py2.py3-none-any.whl (250 kB)\n",
      "Downloading xlrd-2.0.2-py2.py3-none-any.whl (96 kB)\n",
      "Using cached et_xmlfile-2.0.0-py3-none-any.whl (18 kB)\n",
      "Installing collected packages: xlrd, et-xmlfile, openpyxl\n",
      "\u001b[2K   \u001b[90m━━━━━━━━━━━━━━━━━━━━━━━━━━━━━━━━━━━━━━━━\u001b[0m \u001b[32m3/3\u001b[0m [openpyxl]2/3\u001b[0m [openpyxl]\n",
      "\u001b[1A\u001b[2KSuccessfully installed et-xmlfile-2.0.0 openpyxl-3.1.5 xlrd-2.0.2\n",
      "Note: you may need to restart the kernel to use updated packages.\n",
      "Collecting pdfminer.six\n",
      "  Using cached pdfminer_six-20250506-py3-none-any.whl.metadata (4.2 kB)\n",
      "Collecting charset-normalizer>=2.0.0 (from pdfminer.six)\n",
      "  Downloading charset_normalizer-3.4.3-cp311-cp311-macosx_10_9_universal2.whl.metadata (36 kB)\n",
      "Collecting cryptography>=36.0.0 (from pdfminer.six)\n",
      "  Downloading cryptography-46.0.2-cp311-abi3-macosx_10_9_universal2.whl.metadata (5.7 kB)\n",
      "Collecting cffi>=2.0.0 (from cryptography>=36.0.0->pdfminer.six)\n",
      "  Downloading cffi-2.0.0-cp311-cp311-macosx_11_0_arm64.whl.metadata (2.6 kB)\n",
      "Collecting pycparser (from cffi>=2.0.0->cryptography>=36.0.0->pdfminer.six)\n",
      "  Downloading pycparser-2.23-py3-none-any.whl.metadata (993 bytes)\n",
      "Using cached pdfminer_six-20250506-py3-none-any.whl (5.6 MB)\n",
      "Downloading charset_normalizer-3.4.3-cp311-cp311-macosx_10_9_universal2.whl (204 kB)\n",
      "Downloading cryptography-46.0.2-cp311-abi3-macosx_10_9_universal2.whl (7.3 MB)\n",
      "\u001b[2K   \u001b[90m━━━━━━━━━━━━━━━━━━━━━━━━━━━━━━━━━━━━━━━━\u001b[0m \u001b[32m7.3/7.3 MB\u001b[0m \u001b[31m13.1 MB/s\u001b[0m  \u001b[33m0:00:00\u001b[0m eta \u001b[36m0:00:01\u001b[0m\n",
      "\u001b[?25hDownloading cffi-2.0.0-cp311-cp311-macosx_11_0_arm64.whl (180 kB)\n",
      "Downloading pycparser-2.23-py3-none-any.whl (118 kB)\n",
      "Installing collected packages: pycparser, charset-normalizer, cffi, cryptography, pdfminer.six\n",
      "\u001b[2K   \u001b[90m━━━━━━━━━━━━━━━━━━━━━━━━━━━━━━━━━━━━━━━━\u001b[0m \u001b[32m5/5\u001b[0m [pdfminer.six][0m [cryptography]\n",
      "\u001b[1A\u001b[2KSuccessfully installed cffi-2.0.0 charset-normalizer-3.4.3 cryptography-46.0.2 pdfminer.six-20250506 pycparser-2.23\n",
      "Note: you may need to restart the kernel to use updated packages.\n",
      "Collecting python-pptx\n",
      "  Downloading python_pptx-1.0.2-py3-none-any.whl.metadata (2.5 kB)\n",
      "Collecting Pillow>=3.3.2 (from python-pptx)\n",
      "  Using cached pillow-11.3.0-cp311-cp311-macosx_11_0_arm64.whl.metadata (9.0 kB)\n",
      "Collecting XlsxWriter>=0.5.7 (from python-pptx)\n",
      "  Downloading xlsxwriter-3.2.9-py3-none-any.whl.metadata (2.7 kB)\n",
      "Collecting lxml>=3.1.0 (from python-pptx)\n",
      "  Downloading lxml-6.0.2-cp311-cp311-macosx_10_9_universal2.whl.metadata (3.6 kB)\n",
      "Requirement already satisfied: typing-extensions>=4.9.0 in /Users/haekyungim/miniconda3/envs/iges-env/lib/python3.11/site-packages (from python-pptx) (4.15.0)\n",
      "Downloading python_pptx-1.0.2-py3-none-any.whl (472 kB)\n",
      "Downloading lxml-6.0.2-cp311-cp311-macosx_10_9_universal2.whl (8.6 MB)\n",
      "\u001b[2K   \u001b[90m━━━━━━━━━━━━━━━━━━━━━━━━━━━━━━━━━━━━━━━━\u001b[0m \u001b[32m8.6/8.6 MB\u001b[0m \u001b[31m9.7 MB/s\u001b[0m  \u001b[33m0:00:00\u001b[0m eta \u001b[36m0:00:01\u001b[0m\n",
      "\u001b[?25hDownloading pillow-11.3.0-cp311-cp311-macosx_11_0_arm64.whl (4.7 MB)\n",
      "\u001b[2K   \u001b[90m━━━━━━━━━━━━━━━━━━━━━━━━━━━━━━━━━━━━━━━━\u001b[0m \u001b[32m4.7/4.7 MB\u001b[0m \u001b[31m9.8 MB/s\u001b[0m  \u001b[33m0:00:00\u001b[0mm eta \u001b[36m0:00:01\u001b[0m\n",
      "\u001b[?25hDownloading xlsxwriter-3.2.9-py3-none-any.whl (175 kB)\n",
      "Installing collected packages: XlsxWriter, Pillow, lxml, python-pptx\n",
      "\u001b[2K   \u001b[90m━━━━━━━━━━━━━━━━━━━━━━━━━━━━━━━━━━━━━━━━\u001b[0m \u001b[32m4/4\u001b[0m [python-pptx]\u001b[0m [lxml]w]\n",
      "\u001b[1A\u001b[2KSuccessfully installed Pillow-11.3.0 XlsxWriter-3.2.9 lxml-6.0.2 python-pptx-1.0.2\n",
      "Note: you may need to restart the kernel to use updated packages.\n"
     ]
    }
   ],
   "source": [
    "\n",
    "# Core utilities\n",
    "%pip install tqdm                # nice progress bars\n",
    "## pip install python-docx         # read .docx (fallback)\n",
    "## pip install markdownify        # turn HTML → Markdown (fallback)\n",
    "\n",
    "# Excel → DataFrames → Markdown\n",
    "%pip install pandas openpyxl xlrd\n",
    "\n",
    "# PDF text extraction\n",
    "%pip install pdfminer.six\n",
    "\n",
    "# Powerpoint conversion\n",
    "%pip install --upgrade python-pptx\n",
    "\n",
    "# tabulate\n",
    "%pip install tabulate\n",
    "\n",
    "# Optional: use pandoc for higher‑quality conversion (recommended)\n",
    "#   - Install pandoc from https://pandoc.org/installing.html\n",
    "#   - Make sure `pandoc` is on your PATH."
   ]
  },
  {
   "cell_type": "code",
   "execution_count": 4,
   "id": "ktbdh7lyv5",
   "metadata": {},
   "outputs": [],
   "source": [
    "import argparse\n",
    "import os\n",
    "import shutil\n",
    "import subprocess\n",
    "from pathlib import Path\n",
    "\n",
    "import pandas as pd\n",
    "from tqdm import tqdm\n",
    "from pdfminer.high_level import extract_text"
   ]
  },
  {
   "cell_type": "markdown",
   "id": "9rxzl94d9nj",
   "metadata": {},
   "source": [
    "## DOCX Conversion Functions\n",
    "\n",
    "Functions for converting Word documents to Markdown using pandoc (primary method) or python-docx (fallback)."
   ]
  },
  {
   "cell_type": "code",
   "execution_count": 5,
   "id": "eekalemmb2u",
   "metadata": {},
   "outputs": [],
   "source": [
    "def run_pandoc(input_path: Path, output_path: Path) -> bool:\n",
    "    \"\"\"Call pandoc to convert a file to markdown. Returns True on success.\"\"\"\n",
    "    try:\n",
    "        subprocess.run(\n",
    "            [\"pandoc\", str(input_path), \"-f\",\n",
    "             \"docx\" if input_path.suffix == \".docx\"\n",
    "             else \"markdown\", \"-t\", \"gfm\", \"-o\", str(output_path)],\n",
    "            check=True,\n",
    "            stdout=subprocess.DEVNULL,\n",
    "            stderr=subprocess.DEVNULL,\n",
    "        )\n",
    "        return True\n",
    "    except (subprocess.CalledProcessError, FileNotFoundError):\n",
    "        return False\n",
    "\n",
    "\n",
    "def docx_to_md_fallback(docx_path: Path) -> str:\n",
    "    \"\"\"Very simple fallback conversion for .docx files.\"\"\"\n",
    "    from docx import Document\n",
    "\n",
    "    document = Document(docx_path)\n",
    "    lines = [para.text.strip() for para in document.paragraphs if para.text.strip()]\n",
    "    return \"\\n\\n\".join(lines)"
   ]
  },
  {
   "cell_type": "markdown",
   "id": "oz7qjts725s",
   "metadata": {},
   "source": [
    "## Excel Conversion Function\n",
    "\n",
    "Converts Excel files (.xlsx/.xls) by creating a separate Markdown file for each sheet."
   ]
  },
  {
   "cell_type": "code",
   "execution_count": 6,
   "id": "nxlynw6djp8",
   "metadata": {},
   "outputs": [],
   "source": [
    "def excel_to_md(excel_path: Path, dest_dir: Path) -> None:\n",
    "    \"\"\"Write each sheet of an Excel workbook to its own .md file.\"\"\"\n",
    "    xls = pd.ExcelFile(excel_path)\n",
    "    for sheet in xls.sheet_names:\n",
    "        df = pd.read_excel(xls, sheet_name=sheet)\n",
    "        safe_sheet = \"\".join(c if c.isalnum() or c in \" _-\" else \"_\" for c in sheet)\n",
    "        md_fname = f\"{excel_path.stem}_{safe_sheet}.md\"\n",
    "        out_path = dest_dir / md_fname\n",
    "        with open(out_path, \"w\", encoding=\"utf-8\") as fh:\n",
    "            fh.write(df.to_markdown(index=False))"
   ]
  },
  {
   "cell_type": "markdown",
   "id": "dw5mc8176za",
   "metadata": {},
   "source": [
    "## PDF Conversion Function\n",
    "\n",
    "Extracts plain text from PDF files using pdfminer.six."
   ]
  },
  {
   "cell_type": "code",
   "execution_count": 7,
   "id": "bwsg6ojhrww",
   "metadata": {},
   "outputs": [],
   "source": [
    "def pdf_to_md(pdf_path: Path) -> str:\n",
    "    \"\"\"Extract plain text from a PDF.\"\"\"\n",
    "    return extract_text(str(pdf_path))"
   ]
  },
  {
   "cell_type": "markdown",
   "id": "ucvycd099da",
   "metadata": {},
   "source": [
    "## PowerPoint Conversion Function\n",
    "\n",
    "Converts PowerPoint (.pptx) presentations to Markdown format:\n",
    "- Slide titles become level-2 headings\n",
    "- Bulleted paragraphs become list items with proper indentation\n",
    "- Slide notes are added as blockquotes"
   ]
  },
  {
   "cell_type": "code",
   "execution_count": 8,
   "id": "9dncsw2loj",
   "metadata": {},
   "outputs": [],
   "source": [
    "def pptx_to_md(pptx_path: Path) -> str:\n",
    "    \"\"\"\n",
    "    Convert a PowerPoint (.pptx) file to markdown.\n",
    "    - Slide titles become level‑2 headings (`## Title`)\n",
    "    - Bulleted paragraphs become list items\n",
    "    - Slide notes (if any) are added under an indented blockquote\n",
    "    \"\"\"\n",
    "    from pptx import Presentation\n",
    "\n",
    "    prs = Presentation(pptx_path)\n",
    "    md_lines = []\n",
    "\n",
    "    for idx, slide in enumerate(prs.slides, start=1):\n",
    "        # ---- Title ---------------------------------------------------------\n",
    "        title_shapes = [shape for shape in slide.shapes if shape.has_text_frame and shape.is_placeholder]\n",
    "        title = None\n",
    "        for sh in title_shapes:\n",
    "            if \"title\" in sh.placeholder_format.idx.__str__().lower():\n",
    "                title = sh.text.strip()\n",
    "                break\n",
    "        # Fallback: first textbox with larger font could be a title – keep it simple\n",
    "        if not title and slide.shapes.title:\n",
    "            title = slide.shapes.title.text.strip()\n",
    "\n",
    "        md_lines.append(f\"## Slide {idx}\" + (f\": {title}\" if title else \"\"))\n",
    "\n",
    "        # ---- Body ----------------------------------------------------------\n",
    "        for shape in slide.shapes:\n",
    "            if not shape.has_text_frame:\n",
    "                continue\n",
    "            # Skip the placeholder that we already used as title\n",
    "            if shape == slide.shapes.title:\n",
    "                continue\n",
    "\n",
    "            txt = shape.text.strip()\n",
    "            if not txt:\n",
    "                continue\n",
    "\n",
    "            # Detect bullet levels (pptx stores them in paragraph.level)\n",
    "            for para in shape.text_frame.paragraphs:\n",
    "                level = para.level  # 0 = top‑level bullet\n",
    "                bullet = \"* \" * (level + 1)\n",
    "                line_text = para.text.strip()\n",
    "                if line_text:\n",
    "                    md_lines.append(f\"{bullet}{line_text}\")\n",
    "\n",
    "        # ---- Notes ---------------------------------------------------------\n",
    "        if slide.has_notes_slide and slide.notes_slide.notes_text_frame:\n",
    "            notes = slide.notes_slide.notes_text_frame.text.strip()\n",
    "            if notes:\n",
    "                md_lines.append(\"\\n> **Notes:**\")\n",
    "                for note_line in notes.splitlines():\n",
    "                    md_lines.append(f\"> {note_line}\")\n",
    "\n",
    "        md_lines.append(\"\")  # blank line between slides\n",
    "\n",
    "    return \"\\n\".join(md_lines)"
   ]
  },
  {
   "cell_type": "markdown",
   "id": "ptx7exrzicb",
   "metadata": {},
   "source": [
    "## Image Copy Function\n",
    "\n",
    "Copies image files (PNG, JPG, GIF, SVG) unchanged to the destination directory."
   ]
  },
  {
   "cell_type": "code",
   "execution_count": 9,
   "id": "sw6b46yaonf",
   "metadata": {},
   "outputs": [],
   "source": [
    "def copy_image(src: Path, dst: Path) -> None:\n",
    "    \"\"\"Copy image files unchanged.\"\"\"\n",
    "    shutil.copy2(src, dst)"
   ]
  },
  {
   "cell_type": "markdown",
   "id": "0hl8m6viv4lm",
   "metadata": {},
   "source": [
    "## File Conversion Router\n",
    "\n",
    "Main function that determines the file type and calls the appropriate conversion function. Creates destination directory structure that mirrors the source."
   ]
  },
  {
   "cell_type": "code",
   "execution_count": 10,
   "id": "x3arfguncwh",
   "metadata": {},
   "outputs": [],
   "source": [
    "def convert_one_file(src_path: Path, dest_root: Path) -> None:\n",
    "    \"\"\"\n",
    "    Convert a single file according to its suffix.\n",
    "    The destination folder structure mirrors the source one.\n",
    "    \"\"\"\n",
    "    rel_path = src_path.relative_to(src_root)\n",
    "    dest_dir = (dest_root / rel_path.parent).resolve()\n",
    "    dest_dir.mkdir(parents=True, exist_ok=True)\n",
    "\n",
    "    md_name = src_path.stem + \".md\"\n",
    "    dest_md_path = dest_dir / md_name\n",
    "\n",
    "    suffix = src_path.suffix.lower()\n",
    "\n",
    "    if suffix == \".docx\":\n",
    "        if run_pandoc(src_path, dest_md_path):\n",
    "            return\n",
    "        with open(dest_md_path, \"w\", encoding=\"utf-8\") as f:\n",
    "            f.write(docx_to_md_fallback(src_path))\n",
    "\n",
    "    elif suffix in {\".xlsx\", \".xls\"}:\n",
    "        excel_to_md(src_path, dest_dir)\n",
    "\n",
    "    elif suffix == \".pdf\":\n",
    "        with open(dest_md_path, \"w\", encoding=\"utf-8\") as f:\n",
    "            f.write(pdf_to_md(src_path))\n",
    "\n",
    "    elif suffix == \".pptx\":\n",
    "        # PowerPoint → markdown\n",
    "        md_text = pptx_to_md(src_path)\n",
    "        with open(dest_md_path, \"w\", encoding=\"utf-8\") as f:\n",
    "            f.write(md_text)\n",
    "\n",
    "    elif suffix in {\".png\", \".jpg\", \".jpeg\", \".gif\", \".svg\"}:\n",
    "        copy_image(src_path, dest_dir / src_path.name)\n",
    "\n",
    "    else:\n",
    "        # Unsupported – silently ignore (or log if you wish)\n",
    "        pass"
   ]
  },
  {
   "cell_type": "markdown",
   "id": "kj60t5ju6za",
   "metadata": {},
   "source": [
    "## Directory Walker\n",
    "\n",
    "Recursively scans the source directory and processes all files with a progress bar."
   ]
  },
  {
   "cell_type": "code",
   "execution_count": 12,
   "id": "k6l922nwdh",
   "metadata": {},
   "outputs": [],
   "source": [
    "def walk_and_convert(source_root: Path, destination_root: Path) -> None:\n",
    "    \"\"\"Recursively scan `source_root` and convert each file.\"\"\"\n",
    "    all_files = [p for p in source_root.rglob(\"*\") if p.is_file()]\n",
    "    with tqdm(total=len(all_files), desc=\"Converting\", unit=\"file\") as pbar:\n",
    "        for fpath in all_files:\n",
    "            convert_one_file(fpath, destination_root)\n",
    "            pbar.update(1)"
   ]
  },
  {
   "cell_type": "markdown",
   "id": "672hmp556h3",
   "metadata": {},
   "source": [
    "## Interactive Usage\n",
    "\n",
    "Set up source and destination paths, then run the conversion process."
   ]
  },
  {
   "cell_type": "code",
   "execution_count": 14,
   "id": "xfoiqe9mb2",
   "metadata": {},
   "outputs": [
    {
     "name": "stdout",
     "output_type": "stream",
     "text": [
      "🔍  Scanning: /Users/haekyungim/Library/CloudStorage/GoogleDrive-haky@uchicago.edu/My Drive/Work/Service/IGES/iges-documents/backup-from-intranet/Archive-2023\n",
      "📁  Destination root: /Users/haekyungim/Downloads/tempo\n"
     ]
    },
    {
     "name": "stderr",
     "output_type": "stream",
     "text": [
      "Converting:  65%|██████▌   | 99/152 [00:51<01:33,  1.77s/file]/Users/haekyungim/miniconda3/envs/iges-env/lib/python3.11/site-packages/openpyxl/worksheet/_reader.py:329: UserWarning: Unknown extension is not supported and will be removed\n",
      "  warn(msg)\n",
      "Converting:  92%|█████████▏| 140/152 [00:53<00:00, 18.95file/s]/Users/haekyungim/miniconda3/envs/iges-env/lib/python3.11/site-packages/openpyxl/worksheet/_reader.py:329: UserWarning: Unknown extension is not supported and will be removed\n",
      "  warn(msg)\n",
      "/Users/haekyungim/miniconda3/envs/iges-env/lib/python3.11/site-packages/openpyxl/worksheet/_reader.py:329: UserWarning: Unknown extension is not supported and will be removed\n",
      "  warn(msg)\n",
      "Cannot set gray non-stroke color because /'P6' is an invalid float value\n",
      "Converting: 100%|██████████| 152/152 [00:53<00:00,  2.82file/s]"
     ]
    },
    {
     "name": "stdout",
     "output_type": "stream",
     "text": [
      "\n",
      "✅  Done! Your markdown copy lives at: /Users/haekyungim/Downloads/tempo\n"
     ]
    },
    {
     "name": "stderr",
     "output_type": "stream",
     "text": [
      "\n"
     ]
    }
   ],
   "source": [
    "# Define source and destination paths\n",
    "src_root = Path(\"/Users/haekyungim/Library/CloudStorage/GoogleDrive-haky@uchicago.edu/My Drive/Work/Service/IGES/iges-documents/backup-from-intranet/Archive-2023\")\n",
    "dest_root = Path(\"/Users/haekyungim/Downloads/tempo/\")\n",
    "\n",
    "# Validate source directory exists\n",
    "if not src_root.is_dir():\n",
    "    raise SystemExit(f\"❌  Source directory does not exist: {src_root}\")\n",
    "\n",
    "# Create destination directory\n",
    "dest_root.mkdir(parents=True, exist_ok=True)\n",
    "\n",
    "print(f\"🔍  Scanning: {src_root}\")\n",
    "print(f\"📁  Destination root: {dest_root}\")\n",
    "\n",
    "# Run the conversion\n",
    "walk_and_convert(src_root, dest_root)\n",
    "\n",
    "print(\"\\n✅  Done! Your markdown copy lives at:\", dest_root)"
   ]
  },
  {
   "cell_type": "code",
   "execution_count": null,
   "id": "9e2f459d",
   "metadata": {},
   "outputs": [],
   "source": []
  }
 ],
 "metadata": {
  "kernelspec": {
   "display_name": "iges-env",
   "language": "python",
   "name": "python3"
  },
  "language_info": {
   "codemirror_mode": {
    "name": "ipython",
    "version": 3
   },
   "file_extension": ".py",
   "mimetype": "text/x-python",
   "name": "python",
   "nbconvert_exporter": "python",
   "pygments_lexer": "ipython3",
   "version": "3.11.13"
  }
 },
 "nbformat": 4,
 "nbformat_minor": 5
}
